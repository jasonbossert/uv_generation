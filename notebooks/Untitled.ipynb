{
 "cells": [
  {
   "cell_type": "code",
   "execution_count": 1,
   "metadata": {
    "ExecuteTime": {
     "end_time": "2020-02-05T18:52:25.748579Z",
     "start_time": "2020-02-05T18:52:08.957937Z"
    }
   },
   "outputs": [],
   "source": [
    "import pandas as pd\n",
    "import numpy as np\n",
    "import tqdm\n",
    "import seaborn as sns\n",
    "import matplotlib.pyplot as plt"
   ]
  },
  {
   "cell_type": "markdown",
   "metadata": {},
   "source": [
    "# 118 nm Photon Generation"
   ]
  },
  {
   "cell_type": "code",
   "execution_count": null,
   "metadata": {},
   "outputs": [],
   "source": []
  },
  {
   "cell_type": "code",
   "execution_count": null,
   "metadata": {},
   "outputs": [],
   "source": []
  },
  {
   "cell_type": "markdown",
   "metadata": {},
   "source": [
    "# Experimental Data"
   ]
  },
  {
   "cell_type": "markdown",
   "metadata": {},
   "source": [
    "Our experimental data ... (background)\n",
    "\n",
    "We can load the experimental data:"
   ]
  },
  {
   "cell_type": "code",
   "execution_count": 18,
   "metadata": {
    "ExecuteTime": {
     "end_time": "2020-02-05T19:33:06.193289Z",
     "start_time": "2020-02-05T19:33:06.164056Z"
    }
   },
   "outputs": [
    {
     "data": {
      "text/html": [
       "<div>\n",
       "<style scoped>\n",
       "    .dataframe tbody tr th:only-of-type {\n",
       "        vertical-align: middle;\n",
       "    }\n",
       "\n",
       "    .dataframe tbody tr th {\n",
       "        vertical-align: top;\n",
       "    }\n",
       "\n",
       "    .dataframe thead th {\n",
       "        text-align: right;\n",
       "    }\n",
       "</style>\n",
       "<table border=\"1\" class=\"dataframe\">\n",
       "  <thead>\n",
       "    <tr style=\"text-align: right;\">\n",
       "      <th></th>\n",
       "      <th></th>\n",
       "      <th>PXe</th>\n",
       "      <th>Fluor</th>\n",
       "      <th>Fluor_Err</th>\n",
       "      <th>Sig_118</th>\n",
       "      <th>Sig_118_Err</th>\n",
       "    </tr>\n",
       "  </thead>\n",
       "  <tbody>\n",
       "    <tr>\n",
       "      <th rowspan=\"19\" valign=\"top\">Ar</th>\n",
       "      <th>0</th>\n",
       "      <td>73.54443</td>\n",
       "      <td>0.73473</td>\n",
       "      <td>0.006770</td>\n",
       "      <td>6.11362</td>\n",
       "      <td>0.51245</td>\n",
       "    </tr>\n",
       "    <tr>\n",
       "      <th>1</th>\n",
       "      <td>69.45863</td>\n",
       "      <td>0.72196</td>\n",
       "      <td>0.004530</td>\n",
       "      <td>10.34578</td>\n",
       "      <td>0.66929</td>\n",
       "    </tr>\n",
       "    <tr>\n",
       "      <th>2</th>\n",
       "      <td>65.37283</td>\n",
       "      <td>0.68439</td>\n",
       "      <td>0.007350</td>\n",
       "      <td>18.62638</td>\n",
       "      <td>0.94510</td>\n",
       "    </tr>\n",
       "    <tr>\n",
       "      <th>3</th>\n",
       "      <td>61.28703</td>\n",
       "      <td>0.62836</td>\n",
       "      <td>0.009370</td>\n",
       "      <td>32.21405</td>\n",
       "      <td>0.82459</td>\n",
       "    </tr>\n",
       "    <tr>\n",
       "      <th>4</th>\n",
       "      <td>57.20123</td>\n",
       "      <td>0.57683</td>\n",
       "      <td>0.020310</td>\n",
       "      <td>52.69991</td>\n",
       "      <td>1.74752</td>\n",
       "    </tr>\n",
       "    <tr>\n",
       "      <th>5</th>\n",
       "      <td>53.11542</td>\n",
       "      <td>0.53410</td>\n",
       "      <td>0.013610</td>\n",
       "      <td>86.77434</td>\n",
       "      <td>2.39953</td>\n",
       "    </tr>\n",
       "    <tr>\n",
       "      <th>6</th>\n",
       "      <td>49.02962</td>\n",
       "      <td>0.44454</td>\n",
       "      <td>0.013670</td>\n",
       "      <td>134.67013</td>\n",
       "      <td>2.28278</td>\n",
       "    </tr>\n",
       "    <tr>\n",
       "      <th>7</th>\n",
       "      <td>44.94382</td>\n",
       "      <td>0.40832</td>\n",
       "      <td>0.008570</td>\n",
       "      <td>192.47936</td>\n",
       "      <td>5.90638</td>\n",
       "    </tr>\n",
       "    <tr>\n",
       "      <th>8</th>\n",
       "      <td>40.85802</td>\n",
       "      <td>0.34731</td>\n",
       "      <td>0.008210</td>\n",
       "      <td>270.02981</td>\n",
       "      <td>6.70529</td>\n",
       "    </tr>\n",
       "    <tr>\n",
       "      <th>9</th>\n",
       "      <td>36.77222</td>\n",
       "      <td>0.25689</td>\n",
       "      <td>0.008490</td>\n",
       "      <td>343.52629</td>\n",
       "      <td>9.64824</td>\n",
       "    </tr>\n",
       "    <tr>\n",
       "      <th>10</th>\n",
       "      <td>32.68641</td>\n",
       "      <td>0.19149</td>\n",
       "      <td>0.007250</td>\n",
       "      <td>419.99166</td>\n",
       "      <td>14.01780</td>\n",
       "    </tr>\n",
       "    <tr>\n",
       "      <th>11</th>\n",
       "      <td>28.60061</td>\n",
       "      <td>0.12986</td>\n",
       "      <td>0.004720</td>\n",
       "      <td>474.07065</td>\n",
       "      <td>13.76460</td>\n",
       "    </tr>\n",
       "    <tr>\n",
       "      <th>12</th>\n",
       "      <td>24.51481</td>\n",
       "      <td>0.07787</td>\n",
       "      <td>0.001780</td>\n",
       "      <td>497.83225</td>\n",
       "      <td>21.59864</td>\n",
       "    </tr>\n",
       "    <tr>\n",
       "      <th>13</th>\n",
       "      <td>20.42901</td>\n",
       "      <td>0.02992</td>\n",
       "      <td>0.000962</td>\n",
       "      <td>466.56067</td>\n",
       "      <td>23.11341</td>\n",
       "    </tr>\n",
       "    <tr>\n",
       "      <th>14</th>\n",
       "      <td>16.34321</td>\n",
       "      <td>0.00581</td>\n",
       "      <td>0.000173</td>\n",
       "      <td>354.88712</td>\n",
       "      <td>20.80868</td>\n",
       "    </tr>\n",
       "    <tr>\n",
       "      <th>15</th>\n",
       "      <td>12.25741</td>\n",
       "      <td>0.01411</td>\n",
       "      <td>0.000575</td>\n",
       "      <td>239.68669</td>\n",
       "      <td>18.46285</td>\n",
       "    </tr>\n",
       "    <tr>\n",
       "      <th>16</th>\n",
       "      <td>8.17160</td>\n",
       "      <td>0.00789</td>\n",
       "      <td>0.000275</td>\n",
       "      <td>97.39048</td>\n",
       "      <td>6.43226</td>\n",
       "    </tr>\n",
       "    <tr>\n",
       "      <th>17</th>\n",
       "      <td>4.08580</td>\n",
       "      <td>0.00855</td>\n",
       "      <td>0.000284</td>\n",
       "      <td>9.86240</td>\n",
       "      <td>0.84662</td>\n",
       "    </tr>\n",
       "    <tr>\n",
       "      <th>18</th>\n",
       "      <td>0.00000</td>\n",
       "      <td>0.01291</td>\n",
       "      <td>0.000438</td>\n",
       "      <td>2.92345</td>\n",
       "      <td>0.29524</td>\n",
       "    </tr>\n",
       "    <tr>\n",
       "      <th rowspan=\"15\" valign=\"top\">Kr</th>\n",
       "      <th>0</th>\n",
       "      <td>74.68108</td>\n",
       "      <td>0.63775</td>\n",
       "      <td>0.009870</td>\n",
       "      <td>0.97741</td>\n",
       "      <td>0.06530</td>\n",
       "    </tr>\n",
       "    <tr>\n",
       "      <th>1</th>\n",
       "      <td>69.18919</td>\n",
       "      <td>0.57687</td>\n",
       "      <td>0.010600</td>\n",
       "      <td>1.03222</td>\n",
       "      <td>0.07559</td>\n",
       "    </tr>\n",
       "    <tr>\n",
       "      <th>2</th>\n",
       "      <td>63.78378</td>\n",
       "      <td>0.50766</td>\n",
       "      <td>0.009930</td>\n",
       "      <td>1.02871</td>\n",
       "      <td>0.06850</td>\n",
       "    </tr>\n",
       "    <tr>\n",
       "      <th>3</th>\n",
       "      <td>58.37838</td>\n",
       "      <td>0.44815</td>\n",
       "      <td>0.011680</td>\n",
       "      <td>1.31625</td>\n",
       "      <td>0.09285</td>\n",
       "    </tr>\n",
       "    <tr>\n",
       "      <th>4</th>\n",
       "      <td>52.97297</td>\n",
       "      <td>0.37168</td>\n",
       "      <td>0.008620</td>\n",
       "      <td>2.31317</td>\n",
       "      <td>0.12491</td>\n",
       "    </tr>\n",
       "    <tr>\n",
       "      <th>5</th>\n",
       "      <td>47.56757</td>\n",
       "      <td>0.29239</td>\n",
       "      <td>0.006780</td>\n",
       "      <td>7.53936</td>\n",
       "      <td>0.28347</td>\n",
       "    </tr>\n",
       "    <tr>\n",
       "      <th>6</th>\n",
       "      <td>42.16216</td>\n",
       "      <td>0.21594</td>\n",
       "      <td>0.006190</td>\n",
       "      <td>18.62682</td>\n",
       "      <td>0.52842</td>\n",
       "    </tr>\n",
       "    <tr>\n",
       "      <th>7</th>\n",
       "      <td>36.75676</td>\n",
       "      <td>0.15307</td>\n",
       "      <td>0.004140</td>\n",
       "      <td>42.18585</td>\n",
       "      <td>1.10781</td>\n",
       "    </tr>\n",
       "    <tr>\n",
       "      <th>8</th>\n",
       "      <td>31.35135</td>\n",
       "      <td>0.09868</td>\n",
       "      <td>0.002010</td>\n",
       "      <td>86.20923</td>\n",
       "      <td>1.85430</td>\n",
       "    </tr>\n",
       "    <tr>\n",
       "      <th>9</th>\n",
       "      <td>25.94595</td>\n",
       "      <td>0.04751</td>\n",
       "      <td>0.001170</td>\n",
       "      <td>144.71971</td>\n",
       "      <td>3.36445</td>\n",
       "    </tr>\n",
       "    <tr>\n",
       "      <th>10</th>\n",
       "      <td>20.54054</td>\n",
       "      <td>0.01942</td>\n",
       "      <td>0.000595</td>\n",
       "      <td>202.58454</td>\n",
       "      <td>4.89065</td>\n",
       "    </tr>\n",
       "    <tr>\n",
       "      <th>11</th>\n",
       "      <td>15.13514</td>\n",
       "      <td>0.01715</td>\n",
       "      <td>0.000598</td>\n",
       "      <td>218.00416</td>\n",
       "      <td>8.97809</td>\n",
       "    </tr>\n",
       "    <tr>\n",
       "      <th>12</th>\n",
       "      <td>9.72973</td>\n",
       "      <td>0.01000</td>\n",
       "      <td>0.000295</td>\n",
       "      <td>150.03862</td>\n",
       "      <td>7.43832</td>\n",
       "    </tr>\n",
       "    <tr>\n",
       "      <th>13</th>\n",
       "      <td>4.32432</td>\n",
       "      <td>0.00667</td>\n",
       "      <td>0.000160</td>\n",
       "      <td>26.18145</td>\n",
       "      <td>2.33166</td>\n",
       "    </tr>\n",
       "    <tr>\n",
       "      <th>14</th>\n",
       "      <td>0.00000</td>\n",
       "      <td>0.00885</td>\n",
       "      <td>0.000346</td>\n",
       "      <td>1.04523</td>\n",
       "      <td>0.08485</td>\n",
       "    </tr>\n",
       "  </tbody>\n",
       "</table>\n",
       "</div>"
      ],
      "text/plain": [
       "            PXe    Fluor  Fluor_Err    Sig_118  Sig_118_Err\n",
       "Ar 0   73.54443  0.73473   0.006770    6.11362      0.51245\n",
       "   1   69.45863  0.72196   0.004530   10.34578      0.66929\n",
       "   2   65.37283  0.68439   0.007350   18.62638      0.94510\n",
       "   3   61.28703  0.62836   0.009370   32.21405      0.82459\n",
       "   4   57.20123  0.57683   0.020310   52.69991      1.74752\n",
       "   5   53.11542  0.53410   0.013610   86.77434      2.39953\n",
       "   6   49.02962  0.44454   0.013670  134.67013      2.28278\n",
       "   7   44.94382  0.40832   0.008570  192.47936      5.90638\n",
       "   8   40.85802  0.34731   0.008210  270.02981      6.70529\n",
       "   9   36.77222  0.25689   0.008490  343.52629      9.64824\n",
       "   10  32.68641  0.19149   0.007250  419.99166     14.01780\n",
       "   11  28.60061  0.12986   0.004720  474.07065     13.76460\n",
       "   12  24.51481  0.07787   0.001780  497.83225     21.59864\n",
       "   13  20.42901  0.02992   0.000962  466.56067     23.11341\n",
       "   14  16.34321  0.00581   0.000173  354.88712     20.80868\n",
       "   15  12.25741  0.01411   0.000575  239.68669     18.46285\n",
       "   16   8.17160  0.00789   0.000275   97.39048      6.43226\n",
       "   17   4.08580  0.00855   0.000284    9.86240      0.84662\n",
       "   18   0.00000  0.01291   0.000438    2.92345      0.29524\n",
       "Kr 0   74.68108  0.63775   0.009870    0.97741      0.06530\n",
       "   1   69.18919  0.57687   0.010600    1.03222      0.07559\n",
       "   2   63.78378  0.50766   0.009930    1.02871      0.06850\n",
       "   3   58.37838  0.44815   0.011680    1.31625      0.09285\n",
       "   4   52.97297  0.37168   0.008620    2.31317      0.12491\n",
       "   5   47.56757  0.29239   0.006780    7.53936      0.28347\n",
       "   6   42.16216  0.21594   0.006190   18.62682      0.52842\n",
       "   7   36.75676  0.15307   0.004140   42.18585      1.10781\n",
       "   8   31.35135  0.09868   0.002010   86.20923      1.85430\n",
       "   9   25.94595  0.04751   0.001170  144.71971      3.36445\n",
       "   10  20.54054  0.01942   0.000595  202.58454      4.89065\n",
       "   11  15.13514  0.01715   0.000598  218.00416      8.97809\n",
       "   12   9.72973  0.01000   0.000295  150.03862      7.43832\n",
       "   13   4.32432  0.00667   0.000160   26.18145      2.33166\n",
       "   14   0.00000  0.00885   0.000346    1.04523      0.08485"
      ]
     },
     "execution_count": 18,
     "metadata": {},
     "output_type": "execute_result"
    }
   ],
   "source": [
    "exp_data_path = \"../data/experimental/\"\n",
    "col_names = [\"PXe\", \"Fluor\", \"Fluor_Err\", \"Sig_118\", \"Sig_118_Err\"]\n",
    "exp_data_Ar = pd.read_csv(exp_data_path + \"ArDat.csv\", header=0, names=col_names)\n",
    "exp_data_Kr = pd.read_csv(exp_data_path + \"KrDat.csv\", header=0, names=col_names)\n",
    "\n",
    "exp_data = pd.concat([exp_data_Ar, exp_data_Kr], keys = ['Ar', 'Kr'])\n",
    "exp_data"
   ]
  },
  {
   "cell_type": "markdown",
   "metadata": {},
   "source": [
    "The values for the signal and fluorescence are arbitrary. We can normalize the data so that we can plot the two experimental runs side-by-side. We have to take care though, while the scaling is arbitrary, the scaling between the argon and krypton data is meaningful."
   ]
  },
  {
   "cell_type": "code",
   "execution_count": 19,
   "metadata": {
    "ExecuteTime": {
     "end_time": "2020-02-05T19:33:37.941126Z",
     "start_time": "2020-02-05T19:33:37.928861Z"
    }
   },
   "outputs": [
    {
     "data": {
      "text/html": [
       "<div>\n",
       "<style scoped>\n",
       "    .dataframe tbody tr th:only-of-type {\n",
       "        vertical-align: middle;\n",
       "    }\n",
       "\n",
       "    .dataframe tbody tr th {\n",
       "        vertical-align: top;\n",
       "    }\n",
       "\n",
       "    .dataframe thead th {\n",
       "        text-align: right;\n",
       "    }\n",
       "</style>\n",
       "<table border=\"1\" class=\"dataframe\">\n",
       "  <thead>\n",
       "    <tr style=\"text-align: right;\">\n",
       "      <th></th>\n",
       "      <th></th>\n",
       "      <th>PXe</th>\n",
       "      <th>Fluor</th>\n",
       "      <th>Fluor_Err</th>\n",
       "      <th>Sig_118</th>\n",
       "      <th>Sig_118_Err</th>\n",
       "    </tr>\n",
       "  </thead>\n",
       "  <tbody>\n",
       "    <tr>\n",
       "      <th rowspan=\"5\" valign=\"top\">Ar</th>\n",
       "      <th>0</th>\n",
       "      <td>73.54443</td>\n",
       "      <td>1.000000</td>\n",
       "      <td>0.009214</td>\n",
       "      <td>0.012280</td>\n",
       "      <td>0.001029</td>\n",
       "    </tr>\n",
       "    <tr>\n",
       "      <th>1</th>\n",
       "      <td>69.45863</td>\n",
       "      <td>0.982619</td>\n",
       "      <td>0.006166</td>\n",
       "      <td>0.020782</td>\n",
       "      <td>0.001344</td>\n",
       "    </tr>\n",
       "    <tr>\n",
       "      <th>2</th>\n",
       "      <td>65.37283</td>\n",
       "      <td>0.931485</td>\n",
       "      <td>0.010004</td>\n",
       "      <td>0.037415</td>\n",
       "      <td>0.001898</td>\n",
       "    </tr>\n",
       "    <tr>\n",
       "      <th>3</th>\n",
       "      <td>61.28703</td>\n",
       "      <td>0.855226</td>\n",
       "      <td>0.012753</td>\n",
       "      <td>0.064709</td>\n",
       "      <td>0.001656</td>\n",
       "    </tr>\n",
       "    <tr>\n",
       "      <th>4</th>\n",
       "      <td>57.20123</td>\n",
       "      <td>0.785091</td>\n",
       "      <td>0.027643</td>\n",
       "      <td>0.105859</td>\n",
       "      <td>0.003510</td>\n",
       "    </tr>\n",
       "  </tbody>\n",
       "</table>\n",
       "</div>"
      ],
      "text/plain": [
       "           PXe     Fluor  Fluor_Err   Sig_118  Sig_118_Err\n",
       "Ar 0  73.54443  1.000000   0.009214  0.012280     0.001029\n",
       "   1  69.45863  0.982619   0.006166  0.020782     0.001344\n",
       "   2  65.37283  0.931485   0.010004  0.037415     0.001898\n",
       "   3  61.28703  0.855226   0.012753  0.064709     0.001656\n",
       "   4  57.20123  0.785091   0.027643  0.105859     0.003510"
      ]
     },
     "execution_count": 19,
     "metadata": {},
     "output_type": "execute_result"
    }
   ],
   "source": [
    "peak_118_signal = max(exp_data.Sig_118)\n",
    "peak_fluor = max(exp_data.Fluor)\n",
    "\n",
    "fluors = [\"Fluor\", \"Fluor_Err\"]\n",
    "sig_118s = [\"Sig_118\", \"Sig_118_Err\"]\n",
    "\n",
    "exp_data[sig_118s] = exp_data[sig_118s] / peak_118_signal\n",
    "exp_data[fluors] = exp_data[fluors] / peak_fluor\n",
    "\n",
    "exp_data.head()"
   ]
  },
  {
   "cell_type": "markdown",
   "metadata": {},
   "source": [
    "We can now plot the data:"
   ]
  },
  {
   "cell_type": "code",
   "execution_count": 30,
   "metadata": {
    "ExecuteTime": {
     "end_time": "2020-02-05T19:58:14.668842Z",
     "start_time": "2020-02-05T19:58:14.278209Z"
    }
   },
   "outputs": [
    {
     "data": {
      "image/png": "[encoded data removed]",
      "text/plain": [
       "<Figure size 1350x750 with 2 Axes>"
      ]
     },
     "metadata": {
      "needs_background": "light"
     },
     "output_type": "display_data"
    }
   ],
   "source": [
    "fig, ax = plt.subplots(1, 2, figsize=(9,5), dpi=150)\n",
    "\n",
    "plot_params = [(exp_data.loc['Ar'], ax[0], 'Ar'), \n",
    "               (exp_data.loc['Kr'], ax[1], 'Kr')]\n",
    "\n",
    "for data, ax, title in plot_params:\n",
    "    data.plot(x='PXe', y='Fluor', yerr='Fluor_Err', ax=ax)\n",
    "    data.plot(x='PXe', y='Sig_118', yerr='Sig_118_Err', ax=ax)\n",
    "    ax.set_title(title)"
   ]
  },
  {
   "cell_type": "markdown",
   "metadata": {
    "ExecuteTime": {
     "end_time": "2020-02-05T19:46:43.971205Z",
     "start_time": "2020-02-05T19:46:43.788912Z"
    }
   },
   "source": [
    "We immediately notice that the krypton peak is lower than the argon peak, and is shifted towards lower pressures."
   ]
  },
  {
   "cell_type": "markdown",
   "metadata": {},
   "source": [
    "## Requirements"
   ]
  },
  {
   "cell_type": "markdown",
   "metadata": {},
   "source": [
    "### Process must depend on mixing gas\n",
    "\n",
    "\n",
    "### Process must have 118 nm photons present\n",
    "\n",
    "\n",
    "### "
   ]
  },
  {
   "cell_type": "markdown",
   "metadata": {},
   "source": [
    "# Possible Loss Mechanisms"
   ]
  },
  {
   "cell_type": "code",
   "execution_count": null,
   "metadata": {},
   "outputs": [],
   "source": []
  },
  {
   "cell_type": "code",
   "execution_count": null,
   "metadata": {},
   "outputs": [],
   "source": []
  },
  {
   "cell_type": "markdown",
   "metadata": {},
   "source": [
    "# 1D Propagation Model"
   ]
  },
  {
   "cell_type": "code",
   "execution_count": null,
   "metadata": {},
   "outputs": [],
   "source": []
  },
  {
   "cell_type": "code",
   "execution_count": null,
   "metadata": {},
   "outputs": [],
   "source": []
  },
  {
   "cell_type": "markdown",
   "metadata": {},
   "source": [
    "# 3D Propagation Model"
   ]
  },
  {
   "cell_type": "code",
   "execution_count": null,
   "metadata": {},
   "outputs": [],
   "source": []
  },
  {
   "cell_type": "code",
   "execution_count": null,
   "metadata": {},
   "outputs": [],
   "source": []
  },
  {
   "cell_type": "markdown",
   "metadata": {},
   "source": [
    "# Fitting and Comparisons to Literature"
   ]
  },
  {
   "cell_type": "code",
   "execution_count": null,
   "metadata": {},
   "outputs": [],
   "source": []
  },
  {
   "cell_type": "code",
   "execution_count": null,
   "metadata": {},
   "outputs": [],
   "source": []
  },
  {
   "cell_type": "markdown",
   "metadata": {},
   "source": [
    "# Conclusions"
   ]
  },
  {
   "cell_type": "code",
   "execution_count": null,
   "metadata": {},
   "outputs": [],
   "source": []
  },
  {
   "cell_type": "code",
   "execution_count": null,
   "metadata": {},
   "outputs": [],
   "source": []
  }
 ],
 "metadata": {
  "kernelspec": {
   "display_name": "Python 3",
   "language": "python",
   "name": "python3"
  },
  "language_info": {
   "codemirror_mode": {
    "name": "ipython",
    "version": 3
   },
   "file_extension": ".py",
   "mimetype": "text/x-python",
   "name": "python",
   "nbconvert_exporter": "python",
   "pygments_lexer": "ipython3",
   "version": "3.8.1"
  },
  "toc": {
   "base_numbering": 1,
   "nav_menu": {},
   "number_sections": true,
   "sideBar": true,
   "skip_h1_title": false,
   "title_cell": "Table of Contents",
   "title_sidebar": "Contents",
   "toc_cell": false,
   "toc_position": {},
   "toc_section_display": true,
   "toc_window_display": false
  }
 },
 "nbformat": 4,
 "nbformat_minor": 4
}
